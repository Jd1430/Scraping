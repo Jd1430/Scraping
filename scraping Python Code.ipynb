{
 "cells": [
  {
   "cell_type": "code",
   "execution_count": 1,
   "id": "8d16565a-df05-4d2d-9482-35f43fd02da4",
   "metadata": {},
   "outputs": [],
   "source": [
    "import json\n",
    "import pandas as pd\n",
    "import time\n",
    "from datetime import datetime, timedelta\n",
    "from selenium import webdriver\n",
    "from selenium.webdriver.chrome.service import Service\n",
    "from selenium.webdriver.chrome.options import Options\n",
    "from selenium.webdriver.common.by import By\n",
    "from selenium.webdriver.support.ui import WebDriverWait\n",
    "from selenium.webdriver.support import expected_conditions as EC\n",
    "from webdriver_manager.chrome import ChromeDriverManager\n",
    "from bs4 import BeautifulSoup"
   ]
  },
  {
   "cell_type": "code",
   "execution_count": 2,
   "id": "5640e281-6a41-4790-a556-46ae17811978",
   "metadata": {},
   "outputs": [],
   "source": [
    "options = Options()\n",
    "options.add_argument(\"--headless\")  \n",
    "options.add_argument(\"--disable-gpu\")\n",
    "options.add_argument(\"--no-sandbox\")\n",
    "options.add_argument(\"--disable-dev-shm-usage\")\n",
    "service = Service(ChromeDriverManager().install())"
   ]
  },
  {
   "cell_type": "code",
   "execution_count": 3,
   "id": "98a034d0-bebd-4fd3-a45d-65f5115c419c",
   "metadata": {},
   "outputs": [],
   "source": [
    "driver = webdriver.Chrome(service=service, options=options)"
   ]
  },
  {
   "cell_type": "code",
   "execution_count": 4,
   "id": "fd93ff5f-705d-4629-bb7c-24da4ec06215",
   "metadata": {},
   "outputs": [],
   "source": [
    "def calculate_posted_date(posted_on):\n",
    "    posted_date = None\n",
    "    if \"today\" in posted_on.lower():\n",
    "        posted_date = datetime.now()\n",
    "    elif \"yesterday\" in posted_on.lower():\n",
    "        posted_date = datetime.now() - timedelta(days=1)\n",
    "    else:\n",
    "        try:\n",
    "            num, period = posted_on.split()[1:3]\n",
    "            if \"week\" in period:\n",
    "                posted_date = datetime.now() - timedelta(weeks=int(num))\n",
    "            elif \"day\" in period:\n",
    "                posted_date = datetime.now() - timedelta(days=int(num))\n",
    "        except Exception as e:\n",
    "            print(f\"Error parsing date: {e}\")\n",
    "            posted_date = None\n",
    "    return posted_date.strftime('%d-%m-%Y') if posted_date else None"
   ]
  },
  {
   "cell_type": "code",
   "execution_count": 5,
   "id": "417b0632-274c-412f-8807-04c6ce19179b",
   "metadata": {},
   "outputs": [],
   "source": [
    "def extract_job_info(job_card):\n",
    "    try:\n",
    "        job_info = {}\n",
    "        job_info['company'] = job_card.find('h4', class_='base-search-card__subtitle').text.strip() if job_card.find('h4', class_='base-search-card__subtitle') else 'null'\n",
    "        job_info['job_title'] = job_card.find('h3', class_='base-search-card__title').text.strip() if job_card.find('h3', class_='base-search-card__title') else 'null'\n",
    "        job_info['linkedin_job_id'] = job_card.find('a')['href'].split('/')[-2] if job_card.find('a') else 'null'\n",
    "        job_info['location'] = job_card.find('span', class_='job-search-card__location').text.strip() if job_card.find('span', class_='job-search-card__location') else 'null'\n",
    "        job_info['posted_on'] = job_card.find('time').text.strip() if job_card.find('time') else 'null'\n",
    "        job_info['posted_date'] = calculate_posted_date(job_info['posted_on'])\n",
    "\n",
    "        # Navigate to the job details page to extract additional information\n",
    "        job_link = job_card.find('a')['href'] if job_card.find('a') else None\n",
    "        if job_link:\n",
    "            driver.get(job_link)\n",
    "            time.sleep(2)\n",
    "            job_soup = BeautifulSoup(driver.page_source, 'html.parser')\n",
    "            job_info['work_mode'] = job_soup.find('span', text='Work mode').find_next('span').text.strip() if job_soup.find('span', text='Work mode') else 'null'\n",
    "            job_info['employment_type'] = job_soup.find('span', text='Employment type').find_next('span').text.strip() if job_soup.find('span', text='Employment type') else 'null'\n",
    "            job_info['skills'] = [skill.text.strip() for skill in job_soup.find_all('span', class_='job-criteria__text job-criteria__text--criteria')] if job_soup.find_all('span', class_='job-criteria__text job-criteria__text--criteria') else []\n",
    "        else:\n",
    "            job_info['work_mode'] = 'null'\n",
    "            job_info['employment_type'] = 'null'\n",
    "            job_info['skills'] = []\n",
    "\n",
    "        return job_info\n",
    "    except Exception as e:\n",
    "        print(f\"Error extracting job info: {e}\")\n",
    "        return None\n"
   ]
  },
  {
   "cell_type": "code",
   "execution_count": 6,
   "id": "60188b8c-9c80-4d6b-b09d-327462e4f838",
   "metadata": {},
   "outputs": [
    {
     "name": "stdin",
     "output_type": "stream",
     "text": [
      "Enter LinkedIn job search URL (or type 'done' to finish):  https://www.linkedin.com/jobs/search?keywords=&location=India&geoId=102713980&f_TPR=r86400&f_C=1586&position=1&pageNum=0\n",
      "Enter LinkedIn job search URL (or type 'done' to finish):  done\n"
     ]
    }
   ],
   "source": [
    "# URLs\n",
    "urls = []\n",
    "while True:\n",
    "    url = input(\"Enter LinkedIn job search URL (or type 'done' to finish): \")\n",
    "    if url.lower() == 'done':\n",
    "        break\n",
    "    urls.append(url)"
   ]
  },
  {
   "cell_type": "code",
   "execution_count": 7,
   "id": "827c0298-23cc-401a-9bcf-c7158c6bea9c",
   "metadata": {},
   "outputs": [
    {
     "name": "stdout",
     "output_type": "stream",
     "text": [
      "Page source loaded for URL: https://www.linkedin.com/jobs/search?keywords=&location=India&geoId=102713980&f_TPR=r86400&f_C=1586&position=1&pageNum=0\n",
      "Found 60 job cards\n"
     ]
    },
    {
     "name": "stderr",
     "output_type": "stream",
     "text": [
      "C:\\Users\\User\\AppData\\Local\\Temp\\ipykernel_8160\\2812253728.py:17: DeprecationWarning: The 'text' argument to find()-type methods is deprecated. Use 'string' instead.\n",
      "  job_info['work_mode'] = job_soup.find('span', text='Work mode').find_next('span').text.strip() if job_soup.find('span', text='Work mode') else 'null'\n",
      "C:\\Users\\User\\AppData\\Local\\Temp\\ipykernel_8160\\2812253728.py:18: DeprecationWarning: The 'text' argument to find()-type methods is deprecated. Use 'string' instead.\n",
      "  job_info['employment_type'] = job_soup.find('span', text='Employment type').find_next('span').text.strip() if job_soup.find('span', text='Employment type') else 'null'\n"
     ]
    },
    {
     "name": "stdout",
     "output_type": "stream",
     "text": [
      "Extracted job info: {'company': 'Amazon', 'job_title': 'Business Operations Analyst', 'linkedin_job_id': 'view', 'location': 'Bengaluru, Karnataka, India', 'posted_on': '2 hours ago', 'posted_date': None, 'work_mode': 'null', 'employment_type': 'null', 'skills': []}\n",
      "Extracted job info: {'company': 'Amazon', 'job_title': 'Virtual Customer Support Associate - Tamil Nadu, India', 'linkedin_job_id': 'view', 'location': 'Tamil Nadu, India', 'posted_on': '19 hours ago', 'posted_date': None, 'work_mode': 'null', 'employment_type': 'null', 'skills': []}\n",
      "Extracted job info: {'company': 'Amazon', 'job_title': 'Sales Associate, Direct Sales', 'linkedin_job_id': 'view', 'location': 'Gurugram, Haryana, India', 'posted_on': '2 hours ago', 'posted_date': None, 'work_mode': 'null', 'employment_type': 'null', 'skills': []}\n",
      "Extracted job info: {'company': 'Amazon', 'job_title': 'Production Planning Analyst, Supply Chain', 'linkedin_job_id': 'view', 'location': 'Bengaluru, Karnataka, India', 'posted_on': '2 hours ago', 'posted_date': None, 'work_mode': 'null', 'employment_type': 'null', 'skills': []}\n",
      "Extracted job info: {'company': 'Amazon', 'job_title': 'Business Analyst I, Amazon Warehousing & Distribution', 'linkedin_job_id': 'view', 'location': 'Bengaluru, Karnataka, India', 'posted_on': '2 hours ago', 'posted_date': None, 'work_mode': 'null', 'employment_type': 'null', 'skills': []}\n",
      "Extracted job info: {'company': 'Amazon', 'job_title': 'Sales Specialist, Direct Sales - MCF', 'linkedin_job_id': 'view', 'location': 'Gurugram, Haryana, India', 'posted_on': '2 hours ago', 'posted_date': None, 'work_mode': 'null', 'employment_type': 'null', 'skills': []}\n",
      "Extracted job info: {'company': 'Amazon', 'job_title': 'Area Manager - Amazon Fresh', 'linkedin_job_id': 'view', 'location': 'Navi Mumbai, Maharashtra, India', 'posted_on': '7 minutes ago', 'posted_date': None, 'work_mode': 'null', 'employment_type': 'null', 'skills': []}\n",
      "Extracted job info: {'company': 'Amazon', 'job_title': 'Virtual Customer Support Associate - Delhi, India', 'linkedin_job_id': 'view', 'location': 'Delhi, India', 'posted_on': '19 hours ago', 'posted_date': None, 'work_mode': 'null', 'employment_type': 'null', 'skills': []}\n",
      "Extracted job info: {'company': 'Amazon', 'job_title': 'Process Assistant', 'linkedin_job_id': 'view', 'location': 'Hyderabad, Telangana, India', 'posted_on': '7 minutes ago', 'posted_date': None, 'work_mode': 'null', 'employment_type': 'null', 'skills': []}\n",
      "Extracted job info: {'company': 'Amazon', 'job_title': 'Brand Development Associate', 'linkedin_job_id': 'view', 'location': 'Bengaluru, Karnataka, India', 'posted_on': '2 hours ago', 'posted_date': None, 'work_mode': 'null', 'employment_type': 'null', 'skills': []}\n",
      "Extracted job info: {'company': 'Amazon', 'job_title': 'Category Manager, PC', 'linkedin_job_id': 'view', 'location': 'Bengaluru, Karnataka, India', 'posted_on': '2 hours ago', 'posted_date': None, 'work_mode': 'null', 'employment_type': 'null', 'skills': []}\n",
      "Extracted job info: {'company': 'Amazon', 'job_title': 'Team Lead', 'linkedin_job_id': 'view', 'location': 'Faridabad, Haryana, India', 'posted_on': '11 hours ago', 'posted_date': None, 'work_mode': 'null', 'employment_type': 'null', 'skills': []}\n",
      "Extracted job info: {'company': 'Amazon', 'job_title': 'FinOps Analyst, Accounts Payable', 'linkedin_job_id': 'view', 'location': 'Hyderabad, Telangana, India', 'posted_on': '11 hours ago', 'posted_date': None, 'work_mode': 'null', 'employment_type': 'null', 'skills': []}\n",
      "Extracted job info: {'company': 'Amazon', 'job_title': 'Financial Analyst, FOAA', 'linkedin_job_id': 'view', 'location': 'Bengaluru, Karnataka, India', 'posted_on': '11 hours ago', 'posted_date': None, 'work_mode': 'null', 'employment_type': 'null', 'skills': []}\n",
      "Extracted job info: {'company': 'Amazon', 'job_title': 'Account Manager, Global Selling', 'linkedin_job_id': 'view', 'location': 'Bengaluru, Karnataka, India', 'posted_on': '19 hours ago', 'posted_date': None, 'work_mode': 'null', 'employment_type': 'null', 'skills': []}\n",
      "Extracted job info: {'company': 'Amazon', 'job_title': 'Central Operations Support Executive, IN External Fulfillment', 'linkedin_job_id': 'view', 'location': 'Karnataka, India', 'posted_on': '11 hours ago', 'posted_date': None, 'work_mode': 'null', 'employment_type': 'null', 'skills': []}\n",
      "Extracted job info: {'company': 'Amazon', 'job_title': 'Team Leader - Spoke', 'linkedin_job_id': 'view', 'location': 'Delhi, Delhi, India', 'posted_on': '2 hours ago', 'posted_date': None, 'work_mode': 'null', 'employment_type': 'null', 'skills': []}\n",
      "Extracted job info: {'company': 'Amazon', 'job_title': 'WHS Officer, WHS', 'linkedin_job_id': 'view', 'location': 'Delhi, Delhi, India', 'posted_on': '2 hours ago', 'posted_date': None, 'work_mode': 'null', 'employment_type': 'null', 'skills': []}\n",
      "Extracted job info: {'company': 'Amazon', 'job_title': 'Financial Analyst I, FOAA Cash accounting', 'linkedin_job_id': 'view', 'location': 'Bengaluru, Karnataka, India', 'posted_on': '2 hours ago', 'posted_date': None, 'work_mode': 'null', 'employment_type': 'null', 'skills': []}\n",
      "Extracted job info: {'company': 'Amazon', 'job_title': 'WHS Officer, WHS', 'linkedin_job_id': 'view', 'location': 'Delhi, Delhi, India', 'posted_on': '2 hours ago', 'posted_date': None, 'work_mode': 'null', 'employment_type': 'null', 'skills': []}\n",
      "Extracted job info: {'company': 'Amazon', 'job_title': 'Team Lead, Amazon Transportation Services', 'linkedin_job_id': 'view', 'location': 'Gurgaon, Haryana, India', 'posted_on': '19 hours ago', 'posted_date': None, 'work_mode': 'null', 'employment_type': 'null', 'skills': []}\n",
      "Extracted job info: {'company': 'Amazon', 'job_title': 'Financial Analyst, FOAA Fixed Assets', 'linkedin_job_id': 'view', 'location': 'Bengaluru, Karnataka, India', 'posted_on': '2 hours ago', 'posted_date': None, 'work_mode': 'null', 'employment_type': 'null', 'skills': []}\n",
      "Extracted job info: {'company': 'Amazon', 'job_title': 'Sr. Category Manager, Amazon Business', 'linkedin_job_id': 'view', 'location': 'Bengaluru, Karnataka, India', 'posted_on': '19 hours ago', 'posted_date': None, 'work_mode': 'null', 'employment_type': 'null', 'skills': []}\n",
      "Extracted job info: {'company': 'Amazon', 'job_title': 'WHS Officer, WHS', 'linkedin_job_id': 'view', 'location': 'Mumbai Metropolitan Region', 'posted_on': '2 hours ago', 'posted_date': None, 'work_mode': 'null', 'employment_type': 'null', 'skills': []}\n",
      "Extracted job info: {'company': 'Amazon', 'job_title': 'Sr. Marketing & Ops Associate, IN Creator Success', 'linkedin_job_id': 'view', 'location': 'Bengaluru, Karnataka, India', 'posted_on': '19 hours ago', 'posted_date': None, 'work_mode': 'null', 'employment_type': 'null', 'skills': []}\n",
      "Extracted job info: {'company': 'Amazon', 'job_title': 'Client solutions Manager, Amazon', 'linkedin_job_id': 'view', 'location': 'Bengaluru, Karnataka, India', 'posted_on': '2 hours ago', 'posted_date': None, 'work_mode': 'null', 'employment_type': 'null', 'skills': []}\n",
      "Extracted job info: {'company': 'Amazon', 'job_title': \"Responsable d'équipe logistique junior\", 'linkedin_job_id': 'view', 'location': 'Saran, Bihar, India', 'posted_on': '19 hours ago', 'posted_date': None, 'work_mode': 'null', 'employment_type': 'null', 'skills': []}\n",
      "Extracted job info: {'company': 'Amazon', 'job_title': 'Sr. Learning Specialist, Amazon Business Customer Service (ABCS)', 'linkedin_job_id': 'view', 'location': 'Noida, Uttar Pradesh, India', 'posted_on': '2 hours ago', 'posted_date': None, 'work_mode': 'null', 'employment_type': 'null', 'skills': []}\n",
      "Extracted job info: {'company': 'Amazon', 'job_title': 'Central Operations Support Executive, IN External Fulfillment', 'linkedin_job_id': 'view', 'location': 'Karnataka, India', 'posted_on': '11 hours ago', 'posted_date': None, 'work_mode': 'null', 'employment_type': 'null', 'skills': []}\n",
      "Extracted job info: {'company': 'Amazon', 'job_title': 'FinOps Analyst, Accounts Payable', 'linkedin_job_id': 'view', 'location': 'Hyderabad, Telangana, India', 'posted_on': '11 hours ago', 'posted_date': None, 'work_mode': 'null', 'employment_type': 'null', 'skills': []}\n",
      "Extracted job info: {'company': 'Amazon', 'job_title': 'Channel Team Lead', 'linkedin_job_id': 'view', 'location': 'Patna, Chhattisgarh, India', 'posted_on': '2 hours ago', 'posted_date': None, 'work_mode': 'null', 'employment_type': 'null', 'skills': []}\n",
      "Extracted job info: {'company': 'Amazon', 'job_title': 'FinOps Analyst, Accounts Payable', 'linkedin_job_id': 'view', 'location': 'Hyderabad, Telangana, India', 'posted_on': '11 hours ago', 'posted_date': None, 'work_mode': 'null', 'employment_type': 'null', 'skills': []}\n",
      "Extracted job info: {'company': 'Amazon', 'job_title': 'FinOps Analyst, Accounts Payable', 'linkedin_job_id': 'view', 'location': 'Hyderabad, Telangana, India', 'posted_on': '11 hours ago', 'posted_date': None, 'work_mode': 'null', 'employment_type': 'null', 'skills': []}\n",
      "Extracted job info: {'company': 'Amazon', 'job_title': 'Central Operations Support Executive, IN External Fulfillment', 'linkedin_job_id': 'view', 'location': 'Karnataka, India', 'posted_on': '11 hours ago', 'posted_date': None, 'work_mode': 'null', 'employment_type': 'null', 'skills': []}\n",
      "Extracted job info: {'company': 'Amazon', 'job_title': 'SBS - Brand Manager, Home Entertainment', 'linkedin_job_id': 'view', 'location': 'Bengaluru, Karnataka, India', 'posted_on': '19 hours ago', 'posted_date': None, 'work_mode': 'null', 'employment_type': 'null', 'skills': []}\n",
      "Extracted job info: {'company': 'Amazon', 'job_title': 'Central Operations Support Executive, IN External Fulfillment', 'linkedin_job_id': 'view', 'location': 'Karnataka, India', 'posted_on': '11 hours ago', 'posted_date': None, 'work_mode': 'null', 'employment_type': 'null', 'skills': []}\n",
      "Extracted job info: {'company': 'Amazon', 'job_title': 'FinOps Analyst, Accounts Payable', 'linkedin_job_id': 'view', 'location': 'Hyderabad, Telangana, India', 'posted_on': '11 hours ago', 'posted_date': None, 'work_mode': 'null', 'employment_type': 'null', 'skills': []}\n",
      "Extracted job info: {'company': 'Amazon', 'job_title': 'FinOps Analyst', 'linkedin_job_id': 'view', 'location': 'Borivali, Maharashtra, India', 'posted_on': '11 hours ago', 'posted_date': None, 'work_mode': 'null', 'employment_type': 'null', 'skills': []}\n",
      "Extracted job info: {'company': 'Amazon', 'job_title': 'Sr. Learning Specialist, Amazon Business Customer Service (ABCS)', 'linkedin_job_id': 'view', 'location': 'Delhi, Delhi, India', 'posted_on': '2 hours ago', 'posted_date': None, 'work_mode': 'null', 'employment_type': 'null', 'skills': []}\n",
      "Extracted job info: {'company': 'Amazon', 'job_title': 'Senior FinOps Analyst, Accounts Payable', 'linkedin_job_id': 'view', 'location': 'Hyderabad, Telangana, India', 'posted_on': '11 hours ago', 'posted_date': None, 'work_mode': 'null', 'employment_type': 'null', 'skills': []}\n",
      "Extracted job info: {'company': 'Amazon', 'job_title': 'Last Mile Team leader , GSF Last Mile', 'linkedin_job_id': 'view', 'location': 'Bengaluru, Karnataka, India', 'posted_on': '2 hours ago', 'posted_date': None, 'work_mode': 'null', 'employment_type': 'null', 'skills': []}\n",
      "Extracted job info: {'company': 'Amazon', 'job_title': 'Senior FinOps Analyst, Accounts Payable', 'linkedin_job_id': 'view', 'location': 'Hyderabad, Telangana, India', 'posted_on': '11 hours ago', 'posted_date': None, 'work_mode': 'null', 'employment_type': 'null', 'skills': []}\n",
      "Extracted job info: {'company': 'Amazon', 'job_title': 'Partner Manager, Non Linear Sales', 'linkedin_job_id': 'view', 'location': 'Bengaluru, Karnataka, India', 'posted_on': '2 hours ago', 'posted_date': None, 'work_mode': 'null', 'employment_type': 'null', 'skills': []}\n",
      "Extracted job info: {'company': 'Amazon', 'job_title': 'Account Manager, Amazon Business Advisory', 'linkedin_job_id': 'view', 'location': 'Gurugram, Haryana, India', 'posted_on': '19 hours ago', 'posted_date': None, 'work_mode': 'null', 'employment_type': 'null', 'skills': []}\n",
      "Extracted job info: {'company': 'Amazon', 'job_title': 'Senior Financial Analyst, FOAA Cash Accounting team', 'linkedin_job_id': 'view', 'location': 'Bengaluru, Karnataka, India', 'posted_on': '2 hours ago', 'posted_date': None, 'work_mode': 'null', 'employment_type': 'null', 'skills': []}\n",
      "Extracted job info: {'company': 'Amazon', 'job_title': 'IT Support Associate II', 'linkedin_job_id': 'view', 'location': 'Mumbai Metropolitan Region', 'posted_on': '11 hours ago', 'posted_date': None, 'work_mode': 'null', 'employment_type': 'null', 'skills': []}\n",
      "Extracted job info: {'company': 'Amazon', 'job_title': 'AR Product Manager, Global Accounts Receivable', 'linkedin_job_id': 'view', 'location': 'Hyderabad, Telangana, India', 'posted_on': '2 hours ago', 'posted_date': None, 'work_mode': 'null', 'employment_type': 'null', 'skills': []}\n",
      "Extracted job info: {'company': 'Amazon', 'job_title': 'QAE', 'linkedin_job_id': 'view', 'location': 'Bengaluru, Karnataka, India', 'posted_on': '11 hours ago', 'posted_date': None, 'work_mode': 'null', 'employment_type': 'null', 'skills': []}\n",
      "Extracted job info: {'company': 'Amazon', 'job_title': 'Sr.Finops Analyst – AR', 'linkedin_job_id': 'view', 'location': 'Hyderabad, Telangana, India', 'posted_on': '11 hours ago', 'posted_date': None, 'work_mode': 'null', 'employment_type': 'null', 'skills': []}\n",
      "Extracted job info: {'company': 'Amazon', 'job_title': 'AI Content Writer, Artificial General Intelligence Data Services', 'linkedin_job_id': 'view', 'location': 'Hyderabad, Telangana, India', 'posted_on': '19 hours ago', 'posted_date': None, 'work_mode': 'null', 'employment_type': 'null', 'skills': []}\n"
     ]
    }
   ],
   "source": [
    "# Collecting job data\n",
    "job_data = []\n",
    "for url in urls:\n",
    "    driver.get(url)\n",
    "    try:\n",
    "       \n",
    "        WebDriverWait(driver, 10).until(\n",
    "            EC.presence_of_all_elements_located((By.CSS_SELECTOR, 'ul.jobs-search__results-list li'))\n",
    "        )\n",
    "        time.sleep(2)  \n",
    "    except Exception as e:\n",
    "        print(f\"Error loading page: {e}\")\n",
    "        continue\n",
    "\n",
    "    soup = BeautifulSoup(driver.page_source, 'html.parser')\n",
    "    \n",
    "    \n",
    "    print(\"Page source loaded for URL:\", url)\n",
    "    \n",
    "    job_cards = soup.select('ul.jobs-search__results-list li')\n",
    "    \n",
    "    \n",
    "    print(f\"Found {len(job_cards)} job cards\")\n",
    "\n",
    "    for job_card in job_cards:\n",
    "        job_info = extract_job_info(job_card)\n",
    "        if job_info:\n",
    "            # Debug print: Verify job info extracted\n",
    "            print(f\"Extracted job info: {job_info}\")\n",
    "            job_data.append(job_info)\n",
    "        if len(job_data) >= 50:\n",
    "            break\n",
    "    if len(job_data) >= 50:\n",
    "        break"
   ]
  },
  {
   "cell_type": "code",
   "execution_count": 8,
   "id": "af534814-b8f4-4c57-9726-b91f7a4708b8",
   "metadata": {},
   "outputs": [
    {
     "name": "stdout",
     "output_type": "stream",
     "text": [
      "Collected job data: [{'company': 'Amazon', 'job_title': 'Business Operations Analyst', 'linkedin_job_id': 'view', 'location': 'Bengaluru, Karnataka, India', 'posted_on': '2 hours ago', 'posted_date': None, 'work_mode': 'null', 'employment_type': 'null', 'skills': []}, {'company': 'Amazon', 'job_title': 'Virtual Customer Support Associate - Tamil Nadu, India', 'linkedin_job_id': 'view', 'location': 'Tamil Nadu, India', 'posted_on': '19 hours ago', 'posted_date': None, 'work_mode': 'null', 'employment_type': 'null', 'skills': []}, {'company': 'Amazon', 'job_title': 'Sales Associate, Direct Sales', 'linkedin_job_id': 'view', 'location': 'Gurugram, Haryana, India', 'posted_on': '2 hours ago', 'posted_date': None, 'work_mode': 'null', 'employment_type': 'null', 'skills': []}, {'company': 'Amazon', 'job_title': 'Production Planning Analyst, Supply Chain', 'linkedin_job_id': 'view', 'location': 'Bengaluru, Karnataka, India', 'posted_on': '2 hours ago', 'posted_date': None, 'work_mode': 'null', 'employment_type': 'null', 'skills': []}, {'company': 'Amazon', 'job_title': 'Business Analyst I, Amazon Warehousing & Distribution', 'linkedin_job_id': 'view', 'location': 'Bengaluru, Karnataka, India', 'posted_on': '2 hours ago', 'posted_date': None, 'work_mode': 'null', 'employment_type': 'null', 'skills': []}, {'company': 'Amazon', 'job_title': 'Sales Specialist, Direct Sales - MCF', 'linkedin_job_id': 'view', 'location': 'Gurugram, Haryana, India', 'posted_on': '2 hours ago', 'posted_date': None, 'work_mode': 'null', 'employment_type': 'null', 'skills': []}, {'company': 'Amazon', 'job_title': 'Area Manager - Amazon Fresh', 'linkedin_job_id': 'view', 'location': 'Navi Mumbai, Maharashtra, India', 'posted_on': '7 minutes ago', 'posted_date': None, 'work_mode': 'null', 'employment_type': 'null', 'skills': []}, {'company': 'Amazon', 'job_title': 'Virtual Customer Support Associate - Delhi, India', 'linkedin_job_id': 'view', 'location': 'Delhi, India', 'posted_on': '19 hours ago', 'posted_date': None, 'work_mode': 'null', 'employment_type': 'null', 'skills': []}, {'company': 'Amazon', 'job_title': 'Process Assistant', 'linkedin_job_id': 'view', 'location': 'Hyderabad, Telangana, India', 'posted_on': '7 minutes ago', 'posted_date': None, 'work_mode': 'null', 'employment_type': 'null', 'skills': []}, {'company': 'Amazon', 'job_title': 'Brand Development Associate', 'linkedin_job_id': 'view', 'location': 'Bengaluru, Karnataka, India', 'posted_on': '2 hours ago', 'posted_date': None, 'work_mode': 'null', 'employment_type': 'null', 'skills': []}, {'company': 'Amazon', 'job_title': 'Category Manager, PC', 'linkedin_job_id': 'view', 'location': 'Bengaluru, Karnataka, India', 'posted_on': '2 hours ago', 'posted_date': None, 'work_mode': 'null', 'employment_type': 'null', 'skills': []}, {'company': 'Amazon', 'job_title': 'Team Lead', 'linkedin_job_id': 'view', 'location': 'Faridabad, Haryana, India', 'posted_on': '11 hours ago', 'posted_date': None, 'work_mode': 'null', 'employment_type': 'null', 'skills': []}, {'company': 'Amazon', 'job_title': 'FinOps Analyst, Accounts Payable', 'linkedin_job_id': 'view', 'location': 'Hyderabad, Telangana, India', 'posted_on': '11 hours ago', 'posted_date': None, 'work_mode': 'null', 'employment_type': 'null', 'skills': []}, {'company': 'Amazon', 'job_title': 'Financial Analyst, FOAA', 'linkedin_job_id': 'view', 'location': 'Bengaluru, Karnataka, India', 'posted_on': '11 hours ago', 'posted_date': None, 'work_mode': 'null', 'employment_type': 'null', 'skills': []}, {'company': 'Amazon', 'job_title': 'Account Manager, Global Selling', 'linkedin_job_id': 'view', 'location': 'Bengaluru, Karnataka, India', 'posted_on': '19 hours ago', 'posted_date': None, 'work_mode': 'null', 'employment_type': 'null', 'skills': []}, {'company': 'Amazon', 'job_title': 'Central Operations Support Executive, IN External Fulfillment', 'linkedin_job_id': 'view', 'location': 'Karnataka, India', 'posted_on': '11 hours ago', 'posted_date': None, 'work_mode': 'null', 'employment_type': 'null', 'skills': []}, {'company': 'Amazon', 'job_title': 'Team Leader - Spoke', 'linkedin_job_id': 'view', 'location': 'Delhi, Delhi, India', 'posted_on': '2 hours ago', 'posted_date': None, 'work_mode': 'null', 'employment_type': 'null', 'skills': []}, {'company': 'Amazon', 'job_title': 'WHS Officer, WHS', 'linkedin_job_id': 'view', 'location': 'Delhi, Delhi, India', 'posted_on': '2 hours ago', 'posted_date': None, 'work_mode': 'null', 'employment_type': 'null', 'skills': []}, {'company': 'Amazon', 'job_title': 'Financial Analyst I, FOAA Cash accounting', 'linkedin_job_id': 'view', 'location': 'Bengaluru, Karnataka, India', 'posted_on': '2 hours ago', 'posted_date': None, 'work_mode': 'null', 'employment_type': 'null', 'skills': []}, {'company': 'Amazon', 'job_title': 'WHS Officer, WHS', 'linkedin_job_id': 'view', 'location': 'Delhi, Delhi, India', 'posted_on': '2 hours ago', 'posted_date': None, 'work_mode': 'null', 'employment_type': 'null', 'skills': []}, {'company': 'Amazon', 'job_title': 'Team Lead, Amazon Transportation Services', 'linkedin_job_id': 'view', 'location': 'Gurgaon, Haryana, India', 'posted_on': '19 hours ago', 'posted_date': None, 'work_mode': 'null', 'employment_type': 'null', 'skills': []}, {'company': 'Amazon', 'job_title': 'Financial Analyst, FOAA Fixed Assets', 'linkedin_job_id': 'view', 'location': 'Bengaluru, Karnataka, India', 'posted_on': '2 hours ago', 'posted_date': None, 'work_mode': 'null', 'employment_type': 'null', 'skills': []}, {'company': 'Amazon', 'job_title': 'Sr. Category Manager, Amazon Business', 'linkedin_job_id': 'view', 'location': 'Bengaluru, Karnataka, India', 'posted_on': '19 hours ago', 'posted_date': None, 'work_mode': 'null', 'employment_type': 'null', 'skills': []}, {'company': 'Amazon', 'job_title': 'WHS Officer, WHS', 'linkedin_job_id': 'view', 'location': 'Mumbai Metropolitan Region', 'posted_on': '2 hours ago', 'posted_date': None, 'work_mode': 'null', 'employment_type': 'null', 'skills': []}, {'company': 'Amazon', 'job_title': 'Sr. Marketing & Ops Associate, IN Creator Success', 'linkedin_job_id': 'view', 'location': 'Bengaluru, Karnataka, India', 'posted_on': '19 hours ago', 'posted_date': None, 'work_mode': 'null', 'employment_type': 'null', 'skills': []}, {'company': 'Amazon', 'job_title': 'Client solutions Manager, Amazon', 'linkedin_job_id': 'view', 'location': 'Bengaluru, Karnataka, India', 'posted_on': '2 hours ago', 'posted_date': None, 'work_mode': 'null', 'employment_type': 'null', 'skills': []}, {'company': 'Amazon', 'job_title': \"Responsable d'équipe logistique junior\", 'linkedin_job_id': 'view', 'location': 'Saran, Bihar, India', 'posted_on': '19 hours ago', 'posted_date': None, 'work_mode': 'null', 'employment_type': 'null', 'skills': []}, {'company': 'Amazon', 'job_title': 'Sr. Learning Specialist, Amazon Business Customer Service (ABCS)', 'linkedin_job_id': 'view', 'location': 'Noida, Uttar Pradesh, India', 'posted_on': '2 hours ago', 'posted_date': None, 'work_mode': 'null', 'employment_type': 'null', 'skills': []}, {'company': 'Amazon', 'job_title': 'Central Operations Support Executive, IN External Fulfillment', 'linkedin_job_id': 'view', 'location': 'Karnataka, India', 'posted_on': '11 hours ago', 'posted_date': None, 'work_mode': 'null', 'employment_type': 'null', 'skills': []}, {'company': 'Amazon', 'job_title': 'FinOps Analyst, Accounts Payable', 'linkedin_job_id': 'view', 'location': 'Hyderabad, Telangana, India', 'posted_on': '11 hours ago', 'posted_date': None, 'work_mode': 'null', 'employment_type': 'null', 'skills': []}, {'company': 'Amazon', 'job_title': 'Channel Team Lead', 'linkedin_job_id': 'view', 'location': 'Patna, Chhattisgarh, India', 'posted_on': '2 hours ago', 'posted_date': None, 'work_mode': 'null', 'employment_type': 'null', 'skills': []}, {'company': 'Amazon', 'job_title': 'FinOps Analyst, Accounts Payable', 'linkedin_job_id': 'view', 'location': 'Hyderabad, Telangana, India', 'posted_on': '11 hours ago', 'posted_date': None, 'work_mode': 'null', 'employment_type': 'null', 'skills': []}, {'company': 'Amazon', 'job_title': 'FinOps Analyst, Accounts Payable', 'linkedin_job_id': 'view', 'location': 'Hyderabad, Telangana, India', 'posted_on': '11 hours ago', 'posted_date': None, 'work_mode': 'null', 'employment_type': 'null', 'skills': []}, {'company': 'Amazon', 'job_title': 'Central Operations Support Executive, IN External Fulfillment', 'linkedin_job_id': 'view', 'location': 'Karnataka, India', 'posted_on': '11 hours ago', 'posted_date': None, 'work_mode': 'null', 'employment_type': 'null', 'skills': []}, {'company': 'Amazon', 'job_title': 'SBS - Brand Manager, Home Entertainment', 'linkedin_job_id': 'view', 'location': 'Bengaluru, Karnataka, India', 'posted_on': '19 hours ago', 'posted_date': None, 'work_mode': 'null', 'employment_type': 'null', 'skills': []}, {'company': 'Amazon', 'job_title': 'Central Operations Support Executive, IN External Fulfillment', 'linkedin_job_id': 'view', 'location': 'Karnataka, India', 'posted_on': '11 hours ago', 'posted_date': None, 'work_mode': 'null', 'employment_type': 'null', 'skills': []}, {'company': 'Amazon', 'job_title': 'FinOps Analyst, Accounts Payable', 'linkedin_job_id': 'view', 'location': 'Hyderabad, Telangana, India', 'posted_on': '11 hours ago', 'posted_date': None, 'work_mode': 'null', 'employment_type': 'null', 'skills': []}, {'company': 'Amazon', 'job_title': 'FinOps Analyst', 'linkedin_job_id': 'view', 'location': 'Borivali, Maharashtra, India', 'posted_on': '11 hours ago', 'posted_date': None, 'work_mode': 'null', 'employment_type': 'null', 'skills': []}, {'company': 'Amazon', 'job_title': 'Sr. Learning Specialist, Amazon Business Customer Service (ABCS)', 'linkedin_job_id': 'view', 'location': 'Delhi, Delhi, India', 'posted_on': '2 hours ago', 'posted_date': None, 'work_mode': 'null', 'employment_type': 'null', 'skills': []}, {'company': 'Amazon', 'job_title': 'Senior FinOps Analyst, Accounts Payable', 'linkedin_job_id': 'view', 'location': 'Hyderabad, Telangana, India', 'posted_on': '11 hours ago', 'posted_date': None, 'work_mode': 'null', 'employment_type': 'null', 'skills': []}, {'company': 'Amazon', 'job_title': 'Last Mile Team leader , GSF Last Mile', 'linkedin_job_id': 'view', 'location': 'Bengaluru, Karnataka, India', 'posted_on': '2 hours ago', 'posted_date': None, 'work_mode': 'null', 'employment_type': 'null', 'skills': []}, {'company': 'Amazon', 'job_title': 'Senior FinOps Analyst, Accounts Payable', 'linkedin_job_id': 'view', 'location': 'Hyderabad, Telangana, India', 'posted_on': '11 hours ago', 'posted_date': None, 'work_mode': 'null', 'employment_type': 'null', 'skills': []}, {'company': 'Amazon', 'job_title': 'Partner Manager, Non Linear Sales', 'linkedin_job_id': 'view', 'location': 'Bengaluru, Karnataka, India', 'posted_on': '2 hours ago', 'posted_date': None, 'work_mode': 'null', 'employment_type': 'null', 'skills': []}, {'company': 'Amazon', 'job_title': 'Account Manager, Amazon Business Advisory', 'linkedin_job_id': 'view', 'location': 'Gurugram, Haryana, India', 'posted_on': '19 hours ago', 'posted_date': None, 'work_mode': 'null', 'employment_type': 'null', 'skills': []}, {'company': 'Amazon', 'job_title': 'Senior Financial Analyst, FOAA Cash Accounting team', 'linkedin_job_id': 'view', 'location': 'Bengaluru, Karnataka, India', 'posted_on': '2 hours ago', 'posted_date': None, 'work_mode': 'null', 'employment_type': 'null', 'skills': []}, {'company': 'Amazon', 'job_title': 'IT Support Associate II', 'linkedin_job_id': 'view', 'location': 'Mumbai Metropolitan Region', 'posted_on': '11 hours ago', 'posted_date': None, 'work_mode': 'null', 'employment_type': 'null', 'skills': []}, {'company': 'Amazon', 'job_title': 'AR Product Manager, Global Accounts Receivable', 'linkedin_job_id': 'view', 'location': 'Hyderabad, Telangana, India', 'posted_on': '2 hours ago', 'posted_date': None, 'work_mode': 'null', 'employment_type': 'null', 'skills': []}, {'company': 'Amazon', 'job_title': 'QAE', 'linkedin_job_id': 'view', 'location': 'Bengaluru, Karnataka, India', 'posted_on': '11 hours ago', 'posted_date': None, 'work_mode': 'null', 'employment_type': 'null', 'skills': []}, {'company': 'Amazon', 'job_title': 'Sr.Finops Analyst – AR', 'linkedin_job_id': 'view', 'location': 'Hyderabad, Telangana, India', 'posted_on': '11 hours ago', 'posted_date': None, 'work_mode': 'null', 'employment_type': 'null', 'skills': []}, {'company': 'Amazon', 'job_title': 'AI Content Writer, Artificial General Intelligence Data Services', 'linkedin_job_id': 'view', 'location': 'Hyderabad, Telangana, India', 'posted_on': '19 hours ago', 'posted_date': None, 'work_mode': 'null', 'employment_type': 'null', 'skills': []}]\n"
     ]
    }
   ],
   "source": [
    "driver.quit()\n",
    "\n",
    "print(f\"Collected job data: {job_data}\")"
   ]
  },
  {
   "cell_type": "code",
   "execution_count": 9,
   "id": "e602f385-7cf2-45af-8f3d-cccff55085c3",
   "metadata": {},
   "outputs": [
    {
     "name": "stdout",
     "output_type": "stream",
     "text": [
      "job_data.json file has been saved.\n",
      "job_data.csv file has been saved.\n"
     ]
    }
   ],
   "source": [
    "if job_data:\n",
    "    with open('job_data.json', 'w') as json_file:\n",
    "        json.dump(job_data, json_file, indent=4)\n",
    "    print(\"job_data.json file has been saved.\")\n",
    "else:\n",
    "    print(\"No job data collected to save in JSON file.\")\n",
    "\n",
    "df = pd.DataFrame(job_data)\n",
    "df.to_csv('job_data.csv', index=False)\n",
    "print(\"job_data.csv file has been saved.\")\n"
   ]
  },
  {
   "cell_type": "code",
   "execution_count": null,
   "id": "fdf08312-694e-49e6-85cb-069f27e97a89",
   "metadata": {},
   "outputs": [],
   "source": []
  }
 ],
 "metadata": {
  "kernelspec": {
   "display_name": "Python 3 (ipykernel)",
   "language": "python",
   "name": "python3"
  },
  "language_info": {
   "codemirror_mode": {
    "name": "ipython",
    "version": 3
   },
   "file_extension": ".py",
   "mimetype": "text/x-python",
   "name": "python",
   "nbconvert_exporter": "python",
   "pygments_lexer": "ipython3",
   "version": "3.11.8"
  }
 },
 "nbformat": 4,
 "nbformat_minor": 5
}
